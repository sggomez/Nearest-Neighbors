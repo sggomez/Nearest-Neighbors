{
 "cells": [
  {
   "cell_type": "code",
   "execution_count": null,
   "metadata": {},
   "outputs": [],
   "source": [
    "'''Calculating 1st nearest neighbors of central atom in a crystal lattice:\n",
    "\n",
    "scipy: library containing distance functions\n",
    "numpy: library containing multidimensional arrays & allows us to use them\n",
    "range: creates a list of integers\n",
    "len: prints length of a string\n",
    "\n",
    "** to be considered 1st nearest neighbor, distance between points must be <=.7072\n",
    "'''"
   ]
  },
  {
   "cell_type": "code",
   "execution_count": 21,
   "metadata": {},
   "outputs": [
    {
     "name": "stdout",
     "output_type": "stream",
     "text": [
      "[[0 0 0]] and [0.5 0.5 0. ] are Nearest Neighbors! YAY\n",
      "[[0 0 0]] and [0.  0.5 0.5] are Nearest Neighbors! YAY\n",
      "[[0 0 0]] and [0.5 0.  0.5] are Nearest Neighbors! YAY\n",
      "[[0 0 0]] and [-0.5  0.5  0. ] are Nearest Neighbors! YAY\n",
      "[[0 0 0]] and [-0.5  0.   0.5] are Nearest Neighbors! YAY\n",
      "[[0 0 0]] and [ 0.5 -0.5  0. ] are Nearest Neighbors! YAY\n",
      "[[0 0 0]] and [ 0.  -0.5  0.5] are Nearest Neighbors! YAY\n",
      "[[0 0 0]] and [ 0.   0.5 -0.5] are Nearest Neighbors! YAY\n",
      "[[0 0 0]] and [ 0.5  0.  -0.5] are Nearest Neighbors! YAY\n"
     ]
    }
   ],
   "source": [
    "import numpy as np\n",
    "from scipy.spatial import distance\n",
    "\n",
    "nn = np.array([])\n",
    "maxd = .7072\n",
    "\n",
    "basis = np.array([[0, 0, 0],[0.5,0.5,0],[0,0.5,0.5],[0.5,0,0.5]])\n",
    "origin = np.array([[ 0, 0, 0]])\n",
    "data = np.array([[0.5,0.5,0],[0,0.5,0.5],[0.5,0,0.5],[1,0,0],[1.5,0.5,0],[1,0.5,0.5],[1.5,0,0.5],\n",
    "            [0,1.5,0.5],[0.5,1,0.5],[0,0,1],[0.5,0.5,1],[0,0.5,1.5],[0.5,0,1.5],[2,0,0],[2.5,0.5,0],\n",
    "            [2,0.5,0.5],[2.5,0,0.5],[0,2,0],[0.5,2.5,0],[0,2.5,0.5],[0.5,2,0.5],[0,0,2],[0.5,0.5,2],\n",
    "            [0,0.5,2.5],[0.5,0,2.5],[-1,0,0],[-0.5,0.5,0],[-1,0.5,0.5],[-0.5,0,0.5],[0,-1,0],[0.5,-0.5,0],\n",
    "            [0,-0.5,0.5],[0.5,-1,0.5],[0,0,-1],[0.5,0.5,-1],[0,0.5,-0.5],[0.5,0,-0.5],[-2,0,0],[-1.5,0.5,0],\n",
    "            [-2,0.5,0.5],[-1.5,0,0.5],[0,-2,0],[0.5,-1.5,0],[0,-1.5,0.5],[0.5,-2,0.5],[0,0,-2],[0.5,0.5,-2],\n",
    "            [0,0.5,-1.5],[0.5,0,-1.5]]) \n",
    "\n",
    "\n",
    "distance = distance.cdist(data, origin, 'euclidean')\n",
    "n = 0\n",
    "for point in range(len(distance)):\n",
    "    if distance[point]<=maxd:\n",
    "        print(origin, 'and', data[point], 'are Nearest Neighbors! YAY')"
   ]
  },
  {
   "cell_type": "code",
   "execution_count": null,
   "metadata": {},
   "outputs": [],
   "source": []
  },
  {
   "cell_type": "code",
   "execution_count": null,
   "metadata": {},
   "outputs": [],
   "source": []
  },
  {
   "cell_type": "code",
   "execution_count": null,
   "metadata": {},
   "outputs": [],
   "source": []
  }
 ],
 "metadata": {
  "kernelspec": {
   "display_name": "Python 3",
   "language": "python",
   "name": "python3"
  },
  "language_info": {
   "codemirror_mode": {
    "name": "ipython",
    "version": 3
   },
   "file_extension": ".py",
   "mimetype": "text/x-python",
   "name": "python",
   "nbconvert_exporter": "python",
   "pygments_lexer": "ipython3",
   "version": "3.7.1"
  }
 },
 "nbformat": 4,
 "nbformat_minor": 2
}
