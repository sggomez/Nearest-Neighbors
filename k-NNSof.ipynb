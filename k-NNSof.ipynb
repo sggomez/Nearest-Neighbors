{
 "cells": [
  {
   "cell_type": "code",
   "execution_count": null,
   "metadata": {},
   "outputs": [],
   "source": []
  },
  {
   "cell_type": "code",
   "execution_count": 17,
   "metadata": {},
   "outputs": [
    {
     "name": "stdout",
     "output_type": "stream",
     "text": [
      "[[0 0 0]] and [0.5 0.5 0. ] are Nearest Neighbors! YAY\n",
      "[[0 0 0]] and [0.  0.5 0.5] are Nearest Neighbors! YAY\n",
      "[[0 0 0]] and [0.5 0.  0.5] are Nearest Neighbors! YAY\n",
      "[[0 0 0]] and [-0.5  0.5  0. ] are Nearest Neighbors! YAY\n",
      "[[0 0 0]] and [-0.5  0.   0.5] are Nearest Neighbors! YAY\n",
      "[[0 0 0]] and [ 0.5 -0.5  0. ] are Nearest Neighbors! YAY\n",
      "[[0 0 0]] and [ 0.  -0.5  0.5] are Nearest Neighbors! YAY\n",
      "[[0 0 0]] and [ 0.   0.5 -0.5] are Nearest Neighbors! YAY\n",
      "[[0 0 0]] and [ 0.5  0.  -0.5] are Nearest Neighbors! YAY\n"
     ]
    }
   ],
   "source": [
    "import numpy as np\n",
    "from scipy.spatial import distance\n",
    "\n",
    "nn = np.array([])\n",
    "maxd = .7072\n",
    "\n",
    "basis = np.array([[0, 0, 0],[0.5,0.5,0],[0,0.5,0.5],[0.5,0,0.5]])\n",
    "origin = np.array([[ 0, 0, 0]])\n",
    "data = np.array([[0.5,0.5,0],[0,0.5,0.5],[0.5,0,0.5],[1,0,0],[1.5,0.5,0],[1,0.5,0.5],[1.5,0,0.5],\n",
    "            [0,1.5,0.5],[0.5,1,0.5],[0,0,1],[0.5,0.5,1],[0,0.5,1.5],[0.5,0,1.5],[2,0,0],[2.5,0.5,0],\n",
    "            [2,0.5,0.5],[2.5,0,0.5],[0,2,0],[0.5,2.5,0],[0,2.5,0.5],[0.5,2,0.5],[0,0,2],[0.5,0.5,2],\n",
    "            [0,0.5,2.5],[0.5,0,2.5],[-1,0,0],[-0.5,0.5,0],[-1,0.5,0.5],[-0.5,0,0.5],[0,-1,0],[0.5,-0.5,0],\n",
    "            [0,-0.5,0.5],[0.5,-1,0.5],[0,0,-1],[0.5,0.5,-1],[0,0.5,-0.5],[0.5,0,-0.5],[-2,0,0],[-1.5,0.5,0],\n",
    "            [-2,0.5,0.5],[-1.5,0,0.5],[0,-2,0],[0.5,-1.5,0],[0,-1.5,0.5],[0.5,-2,0.5],[0,0,-2],[0.5,0.5,-2],\n",
    "            [0,0.5,-1.5],[0.5,0,-1.5]]) \n",
    "\n",
    "\n",
    "distance = distance.cdist(data, origin, 'euclidean')\n",
    "n = 0\n",
    "for point in range(len(distance)):\n",
    "    if distance[point]<=maxd:\n",
    "        print(origin, 'and', data[point], 'are Nearest Neighbors! YAY')"
   ]
  },
  {
   "cell_type": "code",
   "execution_count": null,
   "metadata": {},
   "outputs": [],
   "source": []
  },
  {
   "cell_type": "code",
   "execution_count": null,
   "metadata": {},
   "outputs": [],
   "source": []
  },
  {
   "cell_type": "code",
   "execution_count": null,
   "metadata": {},
   "outputs": [],
   "source": []
  }
 ],
 "metadata": {
  "kernelspec": {
   "display_name": "Python 3",
   "language": "python",
   "name": "python3"
  },
  "language_info": {
   "codemirror_mode": {
    "name": "ipython",
    "version": 3
   },
   "file_extension": ".py",
   "mimetype": "text/x-python",
   "name": "python",
   "nbconvert_exporter": "python",
   "pygments_lexer": "ipython3",
   "version": "3.7.1"
  }
 },
 "nbformat": 4,
 "nbformat_minor": 2
}
