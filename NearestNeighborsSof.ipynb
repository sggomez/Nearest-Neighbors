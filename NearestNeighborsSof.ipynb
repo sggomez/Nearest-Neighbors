{
 "cells": [
  {
   "cell_type": "code",
   "execution_count": null,
   "metadata": {},
   "outputs": [],
   "source": [
    "#points in crystal lattice \n",
    "\n",
    "data = [[0.5,0.5,0],[0,0.5,0.5],[0.5,0,0.5],[1,0,0],[1.5,0.5,0],[1,0.5,0.5],[1.5,0,0.5],\n",
    "            [0,1.5,0.5],[0.5,1,0.5],[0,0,1],[0.5,0.5,1],[0,0.5,1.5],[0.5,0,1.5],[2,0,0],[2.5,0.5,0],\n",
    "            [2,0.5,0.5],[2.5,0,0.5],[0,2,0],[0.5,2.5,0],[0,2.5,0.5],[0.5,2,0.5],[0,0,2],[0.5,0.5,2],\n",
    "            [0,0.5,2.5],[0.5,0,2.5],[-1,0,0],[-0.5,0.5,0],[-1,0.5,0.5],[-0.5,0,0.5],[0,-1,0],[0.5,-0.5,0],\n",
    "            [0,-0.5,0.5],[0.5,-1,0.5],[0,0,-1],[0.5,0.5,-1],[0,0.5,-0.5],[0.5,0,-0.5],[-2,0,0],[-1.5,0.5,0],\n",
    "            [-2,0.5,0.5],[-1.5,0,0.5],[0,-2,0],[0.5,-1.5,0],[0,-1.5,0.5],[0.5,-2,0.5],[0,0,-2],[0.5,0.5,-2],\n",
    "            [0,0.5,-1.5],[0.5,0,-1.5]]\n",
    "\n",
    "#reference \n",
    "origin = [0,0,0]\n",
    "\n",
    "import math \n",
    "def euclideanDistance(x,y):\n",
    "    return d = sqrt()"
   ]
  }
 ],
 "metadata": {
  "kernelspec": {
   "display_name": "Python 3",
   "language": "python",
   "name": "python3"
  },
  "language_info": {
   "codemirror_mode": {
    "name": "ipython",
    "version": 3
   },
   "file_extension": ".py",
   "mimetype": "text/x-python",
   "name": "python",
   "nbconvert_exporter": "python",
   "pygments_lexer": "ipython3",
   "version": "3.7.1"
  }
 },
 "nbformat": 4,
 "nbformat_minor": 2
}
